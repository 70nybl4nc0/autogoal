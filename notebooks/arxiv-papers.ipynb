{
 "cells": [
  {
   "cell_type": "code",
   "execution_count": 49,
   "metadata": {},
   "outputs": [],
   "source": [
    "import requests\n",
    "import xml.etree.ElementTree as ET\n",
    "import time"
   ]
  },
  {
   "cell_type": "code",
   "execution_count": 52,
   "metadata": {},
   "outputs": [
    {
     "name": "stdout",
     "output_type": "stream",
     "text": [
      "...................................................................................................."
     ]
    }
   ],
   "source": [
    "papers = []\n",
    "\n",
    "for start in range(1, 1000, 10):\n",
    "    url = 'http://export.arxiv.org/api/query?search_query=\"neural+network\"+\"deep+learning\"&searchtype=abstract&start={0}&max_results=10'.format(start)\n",
    "    data = requests.get(url)\n",
    "    root = ET.fromstring(data.text)\n",
    "    \n",
    "    for c in root:\n",
    "        if c.tag == \"{http://www.w3.org/2005/Atom}entry\":\n",
    "            title = None\n",
    "            url = None\n",
    "            for att in c:\n",
    "                if att.tag == '{http://www.w3.org/2005/Atom}title':\n",
    "                    title = att.text\n",
    "                if att.tag == '{http://www.w3.org/2005/Atom}id':\n",
    "                    url = att.text\n",
    "            papers.append(dict(title=title, url=url))\n",
    "            \n",
    "    time.sleep(1)\n",
    "    print(\".\", end=\"\")"
   ]
  },
  {
   "cell_type": "code",
   "execution_count": 56,
   "metadata": {},
   "outputs": [],
   "source": [
    "import json\n",
    "import datetime"
   ]
  },
  {
   "cell_type": "code",
   "execution_count": 58,
   "metadata": {},
   "outputs": [],
   "source": [
    "with open(\"arxiv-papers-{0}.json\".format(datetime.datetime.now()), \"w\") as fp:\n",
    "    for paper in papers:\n",
    "        fp.write(json.dumps(paper))\n",
    "        fp.write('\\n')"
   ]
  },
  {
   "cell_type": "code",
   "execution_count": null,
   "metadata": {},
   "outputs": [],
   "source": []
  }
 ],
 "metadata": {
  "kernelspec": {
   "display_name": "Python 3",
   "language": "python",
   "name": "python3"
  },
  "language_info": {
   "codemirror_mode": {
    "name": "ipython",
    "version": 3
   },
   "file_extension": ".py",
   "mimetype": "text/x-python",
   "name": "python",
   "nbconvert_exporter": "python",
   "pygments_lexer": "ipython3",
   "version": "3.5.2"
  }
 },
 "nbformat": 4,
 "nbformat_minor": 2
}
