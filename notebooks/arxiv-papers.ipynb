{
 "cells": [
  {
   "cell_type": "markdown",
   "metadata": {},
   "source": [
    "## Searching for relevant papers\n",
    "\n",
    "This section downloads the relevant paper id's from [arxiv.org] that match \"neural network\" or \"deep learning\" in the abstract. After downloading the metadata, a file in jsonline format is saved."
   ]
  },
  {
   "cell_type": "code",
   "execution_count": 49,
   "metadata": {},
   "outputs": [],
   "source": [
    "import requests\n",
    "import xml.etree.ElementTree as ET\n",
    "import time"
   ]
  },
  {
   "cell_type": "code",
   "execution_count": 52,
   "metadata": {},
   "outputs": [
    {
     "name": "stdout",
     "output_type": "stream",
     "text": [
      "...................................................................................................."
     ]
    }
   ],
   "source": [
    "papers = []\n",
    "\n",
    "for start in range(1, 1000, 10):\n",
    "    url = 'http://export.arxiv.org/api/query?search_query=\"neural+network\"+\"deep+learning\"&searchtype=abstract&start={0}&max_results=10'.format(start)\n",
    "    data = requests.get(url)\n",
    "    root = ET.fromstring(data.text)\n",
    "    \n",
    "    for c in root:\n",
    "        if c.tag == \"{http://www.w3.org/2005/Atom}entry\":\n",
    "            title = None\n",
    "            url = None\n",
    "            for att in c:\n",
    "                if att.tag == '{http://www.w3.org/2005/Atom}title':\n",
    "                    title = att.text\n",
    "                if att.tag == '{http://www.w3.org/2005/Atom}id':\n",
    "                    url = att.text\n",
    "            papers.append(dict(title=title, url=url))\n",
    "            \n",
    "    time.sleep(1)\n",
    "    print(\".\", end=\"\")"
   ]
  },
  {
   "cell_type": "code",
   "execution_count": 56,
   "metadata": {},
   "outputs": [],
   "source": [
    "import json\n",
    "import datetime"
   ]
  },
  {
   "cell_type": "code",
   "execution_count": 58,
   "metadata": {},
   "outputs": [],
   "source": [
    "with open(\"arxiv-papers.json\".format(datetime.datetime.now()), \"w\") as fp:\n",
    "    for paper in papers:\n",
    "        fp.write(json.dumps(paper))\n",
    "        fp.write('\\n')"
   ]
  },
  {
   "cell_type": "markdown",
   "metadata": {},
   "source": [
    "## Downloading the papers"
   ]
  },
  {
   "cell_type": "code",
   "execution_count": 2,
   "metadata": {},
   "outputs": [],
   "source": [
    "import json\n",
    "import time\n",
    "import requests"
   ]
  },
  {
   "cell_type": "code",
   "execution_count": 3,
   "metadata": {},
   "outputs": [],
   "source": [
    "papers = []\n",
    "\n",
    "with open(\"arxiv-papers.json\") as fp:\n",
    "    for line in fp:\n",
    "        papers.append(json.loads(line))"
   ]
  },
  {
   "cell_type": "code",
   "execution_count": 4,
   "metadata": {},
   "outputs": [
    {
     "name": "stdout",
     "output_type": "stream",
     "text": [
      "arxiv-papers/1805.03551v2\n"
     ]
    }
   ],
   "source": [
    "for i, paper in enumerate(papers[:1]):\n",
    "    url = paper['url'].replace('/abs/', '/e-print/')\n",
    "    r = requests.get(url)\n",
    "    path = \"arxiv-papers/\" + url.split(\"/\")[-1]\n",
    "    print(path)\n",
    "    \n",
    "    with open(path, \"wb\") as fp:\n",
    "        fp.write(r.content)\n",
    "        \n",
    "    if i % 4 == 0:\n",
    "        time.sleep(1)"
   ]
  },
  {
   "cell_type": "markdown",
   "metadata": {},
   "source": [
    "## Loading the papers content"
   ]
  },
  {
   "cell_type": "code",
   "execution_count": 6,
   "metadata": {},
   "outputs": [],
   "source": [
    "from pathlib import Path"
   ]
  },
  {
   "cell_type": "code",
   "execution_count": 10,
   "metadata": {},
   "outputs": [],
   "source": [
    "p = Path('arxiv-papers-tex')"
   ]
  },
  {
   "cell_type": "code",
   "execution_count": 11,
   "metadata": {},
   "outputs": [
    {
     "ename": "TypeError",
     "evalue": "invalid file: PosixPath('arxiv-papers-tex/1805.03551v2/A_Unified_Framework_of_Deep_Neural_Networks_by_Capsules.tex')",
     "output_type": "error",
     "traceback": [
      "\u001b[0;31m---------------------------------------------------------------------------\u001b[0m",
      "\u001b[0;31mTypeError\u001b[0m                                 Traceback (most recent call last)",
      "\u001b[0;32m<ipython-input-11-9071ced71ecb>\u001b[0m in \u001b[0;36m<module>\u001b[0;34m()\u001b[0m\n\u001b[1;32m      7\u001b[0m     \u001b[0;32mfor\u001b[0m \u001b[0mfname\u001b[0m \u001b[0;32min\u001b[0m \u001b[0md\u001b[0m\u001b[0;34m.\u001b[0m\u001b[0miterdir\u001b[0m\u001b[0;34m(\u001b[0m\u001b[0;34m)\u001b[0m\u001b[0;34m:\u001b[0m\u001b[0;34m\u001b[0m\u001b[0m\n\u001b[1;32m      8\u001b[0m         \u001b[0;32mif\u001b[0m \u001b[0mfname\u001b[0m\u001b[0;34m.\u001b[0m\u001b[0mname\u001b[0m\u001b[0;34m.\u001b[0m\u001b[0mendswith\u001b[0m\u001b[0;34m(\u001b[0m\u001b[0;34m'.tex'\u001b[0m\u001b[0;34m)\u001b[0m\u001b[0;34m:\u001b[0m\u001b[0;34m\u001b[0m\u001b[0m\n\u001b[0;32m----> 9\u001b[0;31m             \u001b[0;32mwith\u001b[0m \u001b[0mopen\u001b[0m\u001b[0;34m(\u001b[0m\u001b[0mfname\u001b[0m\u001b[0;34m)\u001b[0m \u001b[0;32mas\u001b[0m \u001b[0mfp\u001b[0m\u001b[0;34m:\u001b[0m\u001b[0;34m\u001b[0m\u001b[0m\n\u001b[0m\u001b[1;32m     10\u001b[0m                 \u001b[0mfirst\u001b[0m \u001b[0;34m=\u001b[0m \u001b[0mfp\u001b[0m\u001b[0;34m.\u001b[0m\u001b[0mreadline\u001b[0m\u001b[0;34m(\u001b[0m\u001b[0;34m)\u001b[0m\u001b[0;34m\u001b[0m\u001b[0m\n\u001b[1;32m     11\u001b[0m                 \u001b[0;32mif\u001b[0m \u001b[0;32mnot\u001b[0m \u001b[0mfirst\u001b[0m\u001b[0;34m.\u001b[0m\u001b[0mstartswith\u001b[0m\u001b[0;34m(\u001b[0m\u001b[0;34mr'\\documentclass'\u001b[0m\u001b[0;34m)\u001b[0m\u001b[0;34m:\u001b[0m\u001b[0;34m\u001b[0m\u001b[0m\n",
      "\u001b[0;31mTypeError\u001b[0m: invalid file: PosixPath('arxiv-papers-tex/1805.03551v2/A_Unified_Framework_of_Deep_Neural_Networks_by_Capsules.tex')"
     ]
    }
   ],
   "source": [
    "texts = []\n",
    "\n",
    "for d in p.iterdir():\n",
    "    if not d.is_dir():\n",
    "        continue\n",
    "        \n",
    "    for fname in d.iterdir():\n",
    "        if fname.name.endswith('.tex'):\n",
    "            with open(fname) as fp:\n",
    "                first = fp.readline()\n",
    "                if not first.startswith(r'\\documentclass'):\n",
    "                    continue\n",
    "                    \n",
    "            print(fname)"
   ]
  },
  {
   "cell_type": "code",
   "execution_count": null,
   "metadata": {},
   "outputs": [],
   "source": []
  }
 ],
 "metadata": {
  "kernelspec": {
   "display_name": "Python 3",
   "language": "python",
   "name": "python3"
  },
  "language_info": {
   "codemirror_mode": {
    "name": "ipython",
    "version": 3
   },
   "file_extension": ".py",
   "mimetype": "text/x-python",
   "name": "python",
   "nbconvert_exporter": "python",
   "pygments_lexer": "ipython3",
   "version": "3.5.2"
  }
 },
 "nbformat": 4,
 "nbformat_minor": 2
}
